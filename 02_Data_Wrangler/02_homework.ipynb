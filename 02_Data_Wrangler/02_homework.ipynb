{
 "cells": [
  {
   "cell_type": "code",
   "execution_count": 80,
   "id": "146beacc-81eb-4503-995f-3f567a3369d6",
   "metadata": {},
   "outputs": [],
   "source": [
    "import yfinance as yf\n",
    "\n",
    "import numpy as np\n",
    "import pandas as pd\n",
    "\n",
    "import matplotlib.pyplot as plt\n",
    "import seaborn as sns\n",
    "\n",
    "import requests"
   ]
  },
  {
   "cell_type": "markdown",
   "id": "7d0c5a69-d16f-47f2-80a2-aaf3930b0514",
   "metadata": {},
   "source": [
    "### Question 1: Withdrawn IPOs by Company Type\n",
    "What is the total withdrawn IPO value (in $ millions) for the company class with the highest total withdrawal value?\n",
    "\n",
    "From the withdrawn IPO list [stockanalysis.com/ipos/withdrawn](stockanalysis.com/ipos/withdrawn), collect and process the data to find out which company type saw the most withdrawn IPO value.\n",
    "\n",
    "#### Definition of terms\n",
    "* **IPO withdrawal:** In the world of stock analytics, this refers to a situation where a company that has filed to go public (i.e., launched an Initial Public Offering) decides to cancel or postpone the offering before its shares are officially listed and traded on a stock exchange."
   ]
  },
  {
   "cell_type": "code",
   "execution_count": 46,
   "id": "239fca9c-8860-4fb3-a682-cc4a851bf6ee",
   "metadata": {},
   "outputs": [
    {
     "name": "stderr",
     "output_type": "stream",
     "text": [
      "C:\\Users\\DELL\\AppData\\Local\\Temp\\ipykernel_16984\\3236582231.py:8: FutureWarning: Passing literal html to 'read_html' is deprecated and will be removed in a future version. To read from a literal string, wrap it in a 'StringIO' object.\n",
      "  ipo_withdraw = pd.read_html(response.text)\n"
     ]
    }
   ],
   "source": [
    "headers = {\n",
    "    'User-Agent': 'Mozilla/5.0 (Windows NT 10.0; Win64; x64) AppleWebKit/537.36 (KHTML, like Gecko) Chrome/58.0.3029.110 Safari/537.3',\n",
    "}\n",
    "\n",
    "url = \"https://stockanalysis.com/ipos/withdrawn/\"\n",
    "response = requests.get(url, headers=headers)\n",
    "\n",
    "ipo_withdraw = pd.read_html(response.text)"
   ]
  },
  {
   "cell_type": "code",
   "execution_count": 47,
   "id": "41cd41d0-1325-4a69-87f3-f91d4716c750",
   "metadata": {},
   "outputs": [
    {
     "data": {
      "text/html": [
       "<div>\n",
       "<style scoped>\n",
       "    .dataframe tbody tr th:only-of-type {\n",
       "        vertical-align: middle;\n",
       "    }\n",
       "\n",
       "    .dataframe tbody tr th {\n",
       "        vertical-align: top;\n",
       "    }\n",
       "\n",
       "    .dataframe thead th {\n",
       "        text-align: right;\n",
       "    }\n",
       "</style>\n",
       "<table border=\"1\" class=\"dataframe\">\n",
       "  <thead>\n",
       "    <tr style=\"text-align: right;\">\n",
       "      <th></th>\n",
       "      <th>Symbol</th>\n",
       "      <th>Company Name</th>\n",
       "      <th>Price Range</th>\n",
       "      <th>Shares Offered</th>\n",
       "    </tr>\n",
       "  </thead>\n",
       "  <tbody>\n",
       "    <tr>\n",
       "      <th>0</th>\n",
       "      <td>UNFL</td>\n",
       "      <td>Unifoil Holdings, Inc.</td>\n",
       "      <td>$3.00 - $4.00</td>\n",
       "      <td>2000000</td>\n",
       "    </tr>\n",
       "    <tr>\n",
       "      <th>1</th>\n",
       "      <td>AURN</td>\n",
       "      <td>Aurion Biotech, Inc.</td>\n",
       "      <td>-</td>\n",
       "      <td>-</td>\n",
       "    </tr>\n",
       "  </tbody>\n",
       "</table>\n",
       "</div>"
      ],
      "text/plain": [
       "  Symbol            Company Name    Price Range Shares Offered\n",
       "0   UNFL  Unifoil Holdings, Inc.  $3.00 - $4.00        2000000\n",
       "1   AURN    Aurion Biotech, Inc.              -              -"
      ]
     },
     "execution_count": 47,
     "metadata": {},
     "output_type": "execute_result"
    }
   ],
   "source": [
    "ipo_withdraw_dfs = ipo_withdraw[0]\n",
    "ipo_withdraw_dfs.head(2)"
   ]
  },
  {
   "cell_type": "code",
   "execution_count": 48,
   "id": "f9665af3-9a26-4abb-8421-69c4741fce82",
   "metadata": {},
   "outputs": [
    {
     "data": {
      "text/plain": [
       "Symbol                              UNFL\n",
       "Company Name      Unifoil Holdings, Inc.\n",
       "Price Range                $3.00 - $4.00\n",
       "Shares Offered                   2000000\n",
       "Name: 0, dtype: object"
      ]
     },
     "execution_count": 48,
     "metadata": {},
     "output_type": "execute_result"
    }
   ],
   "source": [
    "ipo_withdraw_dfs.loc[0]"
   ]
  },
  {
   "cell_type": "code",
   "execution_count": 49,
   "id": "66b464b8-f475-4c2f-8e1f-ae4b73f88d72",
   "metadata": {},
   "outputs": [
    {
     "name": "stdout",
     "output_type": "stream",
     "text": [
      "<class 'pandas.core.frame.DataFrame'>\n",
      "RangeIndex: 99 entries, 0 to 98\n",
      "Data columns (total 4 columns):\n",
      " #   Column          Non-Null Count  Dtype \n",
      "---  ------          --------------  ----- \n",
      " 0   Symbol          99 non-null     object\n",
      " 1   Company Name    99 non-null     object\n",
      " 2   Price Range     99 non-null     object\n",
      " 3   Shares Offered  99 non-null     object\n",
      "dtypes: object(4)\n",
      "memory usage: 3.2+ KB\n"
     ]
    }
   ],
   "source": [
    "ipo_withdraw_dfs.info()"
   ]
  },
  {
   "cell_type": "code",
   "execution_count": 58,
   "id": "51f571fd-716a-498e-8de0-fe295150761c",
   "metadata": {},
   "outputs": [],
   "source": [
    "# IPO value will the thw average of price range * shared offer\n",
    "def split_price_range(x):\n",
    "    if x == '-' or pd.isna(x):\n",
    "        return 0.0\n",
    "    \n",
    "    x = x.replace('$', '').replace(' ', '')\n",
    "    if '-' in x:\n",
    "        low, high = map(float, x_lst)\n",
    "        return (low + high) / 2\n",
    "    \n",
    "    return float(x)"
   ]
  },
  {
   "cell_type": "code",
   "execution_count": 55,
   "id": "ca6a706c-2cf7-4f06-8f7a-09277b142cb9",
   "metadata": {},
   "outputs": [],
   "source": [
    "ipo_withdraw_dfs['Price Per Share'] = ipo_withdraw_dfs['Price Range'].apply(split_price_range)\n",
    "ipo_withdraw_dfs['Shares Offered'] = ipo_withdraw_dfs['Shares Offered'].apply(split_price_range)\n",
    "ipo_withdraw_dfs['IPO Price'] = ipo_withdraw_dfs['Price Per Share'] * ipo_withdraw_dfs['Shares Offered']"
   ]
  },
  {
   "cell_type": "code",
   "execution_count": 79,
   "id": "3c8b6afe-b1c6-480d-b935-716e41ab991b",
   "metadata": {},
   "outputs": [
    {
     "data": {
      "text/plain": [
       "Symbol                         NVL\n",
       "Company Name          Novelis Inc.\n",
       "Price Range        $18.00 - $21.00\n",
       "Shares Offered          45000000.0\n",
       "Price Per Share               19.5\n",
       "IPO Price                   877.5M\n",
       "Name: 0, dtype: object"
      ]
     },
     "execution_count": 79,
     "metadata": {},
     "output_type": "execute_result"
    }
   ],
   "source": [
    "ipo_price_order = ipo_withdraw_dfs.sort_values('IPO Price', ascending=False).reset_index(drop=True)\n",
    "ipo_price_order['IPO Price'] = round(ipo_price_order['IPO Price'] / 1000000, 2).astype(str) + 'M'\n",
    "\n",
    "max_ipo_price = ipo_price_order.loc[0]\n",
    "max_ipo_price"
   ]
  },
  {
   "cell_type": "markdown",
   "id": "a95672c1-407f-422e-84e2-da996a7b5d3a",
   "metadata": {},
   "source": [
    "### Question 2: Median Sharpe Ratio for 2024 IPOs (First 5 Months)\n",
    "What is the median Sharpe ratio (as of 6 June 2025) for companies that went public in the first 5 months of 2024?\n",
    "\n",
    "Data Source: Using the same approach as in Question 1, download the IPOs in 2024 from:\n",
    "https://stockanalysis.com/ipos/2024/\n",
    "\n",
    "#### Definition of terms\n",
    "* **Sharpe Ratio:** this is a financial metric used to evaluate the risk-adjusted return of an investment. It tells you how much excess return you’re getting for the extra volatility you endure by holding a riskier asset."
   ]
  },
  {
   "cell_type": "code",
   "execution_count": 109,
   "id": "c35c39d8-ee88-425f-a7a7-fbd6b1891485",
   "metadata": {},
   "outputs": [
    {
     "name": "stderr",
     "output_type": "stream",
     "text": [
      "C:\\Users\\DELL\\AppData\\Local\\Temp\\ipykernel_16984\\2197623396.py:4: FutureWarning: Passing literal html to 'read_html' is deprecated and will be removed in a future version. To read from a literal string, wrap it in a 'StringIO' object.\n",
      "  ipo_stock = pd.read_html(response.text)\n"
     ]
    }
   ],
   "source": [
    "url = \"https://stockanalysis.com/ipos/2024/\"\n",
    "response = requests.get(url, headers=headers)\n",
    "\n",
    "ipo_stock = pd.read_html(response.text)"
   ]
  },
  {
   "cell_type": "code",
   "execution_count": 110,
   "id": "e251b9fd-2643-440e-b969-299465f8128d",
   "metadata": {},
   "outputs": [
    {
     "data": {
      "text/html": [
       "<div>\n",
       "<style scoped>\n",
       "    .dataframe tbody tr th:only-of-type {\n",
       "        vertical-align: middle;\n",
       "    }\n",
       "\n",
       "    .dataframe tbody tr th {\n",
       "        vertical-align: top;\n",
       "    }\n",
       "\n",
       "    .dataframe thead th {\n",
       "        text-align: right;\n",
       "    }\n",
       "</style>\n",
       "<table border=\"1\" class=\"dataframe\">\n",
       "  <thead>\n",
       "    <tr style=\"text-align: right;\">\n",
       "      <th></th>\n",
       "      <th>IPO Date</th>\n",
       "      <th>Symbol</th>\n",
       "      <th>Company Name</th>\n",
       "      <th>IPO Price</th>\n",
       "      <th>Current</th>\n",
       "      <th>Return</th>\n",
       "    </tr>\n",
       "  </thead>\n",
       "  <tbody>\n",
       "    <tr>\n",
       "      <th>0</th>\n",
       "      <td>Dec 31, 2024</td>\n",
       "      <td>ONEG</td>\n",
       "      <td>OneConstruction Group Limited</td>\n",
       "      <td>$4.00</td>\n",
       "      <td>$3.55</td>\n",
       "      <td>-12.25%</td>\n",
       "    </tr>\n",
       "    <tr>\n",
       "      <th>1</th>\n",
       "      <td>Dec 27, 2024</td>\n",
       "      <td>PHH</td>\n",
       "      <td>Park Ha Biological Technology Co., Ltd.</td>\n",
       "      <td>$4.00</td>\n",
       "      <td>$18.32</td>\n",
       "      <td>346.00%</td>\n",
       "    </tr>\n",
       "  </tbody>\n",
       "</table>\n",
       "</div>"
      ],
      "text/plain": [
       "       IPO Date Symbol                             Company Name IPO Price  \\\n",
       "0  Dec 31, 2024   ONEG            OneConstruction Group Limited     $4.00   \n",
       "1  Dec 27, 2024    PHH  Park Ha Biological Technology Co., Ltd.     $4.00   \n",
       "\n",
       "  Current   Return  \n",
       "0   $3.55  -12.25%  \n",
       "1  $18.32  346.00%  "
      ]
     },
     "execution_count": 110,
     "metadata": {},
     "output_type": "execute_result"
    }
   ],
   "source": [
    "ipo_stock_df = ipo_stock[0]\n",
    "\n",
    "ipo_stock_df.head(2)"
   ]
  },
  {
   "cell_type": "code",
   "execution_count": 111,
   "id": "a8292c32-9ab4-444e-a5dd-a5c76eaa2ca0",
   "metadata": {},
   "outputs": [
    {
     "name": "stdout",
     "output_type": "stream",
     "text": [
      "<class 'pandas.core.frame.DataFrame'>\n",
      "RangeIndex: 225 entries, 0 to 224\n",
      "Data columns (total 6 columns):\n",
      " #   Column        Non-Null Count  Dtype \n",
      "---  ------        --------------  ----- \n",
      " 0   IPO Date      225 non-null    object\n",
      " 1   Symbol        225 non-null    object\n",
      " 2   Company Name  225 non-null    object\n",
      " 3   IPO Price     225 non-null    object\n",
      " 4   Current       225 non-null    object\n",
      " 5   Return        225 non-null    object\n",
      "dtypes: object(6)\n",
      "memory usage: 10.7+ KB\n"
     ]
    }
   ],
   "source": [
    "ipo_stock_df.info()"
   ]
  },
  {
   "cell_type": "code",
   "execution_count": 119,
   "id": "8125390b-1d26-4f5e-8cd5-0f76047171ef",
   "metadata": {},
   "outputs": [],
   "source": [
    "# change data type\n",
    "# remove dollar sign\n",
    "def clean_special_chars(cols):\n",
    "    for c in cols:\n",
    "        ipo_stock_df[c] = ipo_stock_df[c].apply(lambda x: 0 if x == '-' else x)\n",
    "        if c == 'Return':\n",
    "            ipo_stock_df[c] = ipo_stock_df[c].str.replace('%', '')\n",
    "        else:\n",
    "            ipo_stock_df[c] = ipo_stock_df[c].str.replace('$', '')\n",
    "        \n",
    "\n",
    "def change_type_float(cols):\n",
    "    for c in cols:\n",
    "        ipo_stock_df[c] = ipo_stock_df[c].astype(float)\n",
    "\n",
    "def change_type_date(col):\n",
    "    ipo_stock_df[col] = pd.to_datetime(ipo_stock_df[col])\n"
   ]
  },
  {
   "cell_type": "code",
   "execution_count": 120,
   "id": "f6b53cb5-b903-4e84-bf95-50d06406cf44",
   "metadata": {},
   "outputs": [],
   "source": [
    "# clean cols\n",
    "cols = ['IPO Price', 'Current', 'Return']\n",
    "clean_special_chars(cols)\n",
    "change_type_float(cols)\n",
    "change_type_date('IPO Date')"
   ]
  },
  {
   "cell_type": "code",
   "execution_count": 124,
   "id": "72dfae6e-9392-465b-9a82-6c8470f8bd42",
   "metadata": {},
   "outputs": [
    {
     "data": {
      "text/html": [
       "<div>\n",
       "<style scoped>\n",
       "    .dataframe tbody tr th:only-of-type {\n",
       "        vertical-align: middle;\n",
       "    }\n",
       "\n",
       "    .dataframe tbody tr th {\n",
       "        vertical-align: top;\n",
       "    }\n",
       "\n",
       "    .dataframe thead th {\n",
       "        text-align: right;\n",
       "    }\n",
       "</style>\n",
       "<table border=\"1\" class=\"dataframe\">\n",
       "  <thead>\n",
       "    <tr style=\"text-align: right;\">\n",
       "      <th></th>\n",
       "      <th>IPO Date</th>\n",
       "      <th>Symbol</th>\n",
       "      <th>Company Name</th>\n",
       "      <th>IPO Price</th>\n",
       "      <th>Current</th>\n",
       "      <th>Return</th>\n",
       "    </tr>\n",
       "  </thead>\n",
       "  <tbody>\n",
       "    <tr>\n",
       "      <th>0</th>\n",
       "      <td>2024-05-31</td>\n",
       "      <td>NAKA</td>\n",
       "      <td>Kindly MD, Inc.</td>\n",
       "      <td>NaN</td>\n",
       "      <td>14.18</td>\n",
       "      <td>NaN</td>\n",
       "    </tr>\n",
       "    <tr>\n",
       "      <th>1</th>\n",
       "      <td>2024-05-23</td>\n",
       "      <td>BOW</td>\n",
       "      <td>Bowhead Specialty Holdings Inc.</td>\n",
       "      <td>17.00</td>\n",
       "      <td>35.09</td>\n",
       "      <td>114.06</td>\n",
       "    </tr>\n",
       "    <tr>\n",
       "      <th>2</th>\n",
       "      <td>2024-05-17</td>\n",
       "      <td>HDL</td>\n",
       "      <td>Super Hi International Holding Ltd.</td>\n",
       "      <td>19.56</td>\n",
       "      <td>20.41</td>\n",
       "      <td>4.50</td>\n",
       "    </tr>\n",
       "    <tr>\n",
       "      <th>3</th>\n",
       "      <td>2024-05-17</td>\n",
       "      <td>RFAI</td>\n",
       "      <td>RF Acquisition Corp II</td>\n",
       "      <td>10.00</td>\n",
       "      <td>10.50</td>\n",
       "      <td>5.10</td>\n",
       "    </tr>\n",
       "    <tr>\n",
       "      <th>4</th>\n",
       "      <td>2024-05-15</td>\n",
       "      <td>JDZG</td>\n",
       "      <td>JIADE Limited</td>\n",
       "      <td>4.00</td>\n",
       "      <td>0.27</td>\n",
       "      <td>-92.63</td>\n",
       "    </tr>\n",
       "  </tbody>\n",
       "</table>\n",
       "</div>"
      ],
      "text/plain": [
       "    IPO Date Symbol                         Company Name  IPO Price  Current  \\\n",
       "0 2024-05-31   NAKA                      Kindly MD, Inc.        NaN    14.18   \n",
       "1 2024-05-23    BOW      Bowhead Specialty Holdings Inc.      17.00    35.09   \n",
       "2 2024-05-17    HDL  Super Hi International Holding Ltd.      19.56    20.41   \n",
       "3 2024-05-17   RFAI               RF Acquisition Corp II      10.00    10.50   \n",
       "4 2024-05-15   JDZG                        JIADE Limited       4.00     0.27   \n",
       "\n",
       "   Return  \n",
       "0     NaN  \n",
       "1  114.06  \n",
       "2    4.50  \n",
       "3    5.10  \n",
       "4  -92.63  "
      ]
     },
     "execution_count": 124,
     "metadata": {},
     "output_type": "execute_result"
    }
   ],
   "source": [
    "trim_ipo_stock_df = ipo_stock_df[ipo_stock_df['IPO Date'] < '2024-06-01'].reset_index(drop=True)\n",
    "trim_ipo_stock_df.head()"
   ]
  },
  {
   "cell_type": "code",
   "execution_count": 126,
   "id": "8319271e-1eb0-47a9-9148-413905ac0a59",
   "metadata": {},
   "outputs": [
    {
     "data": {
      "text/plain": [
       "(77, 6)"
      ]
     },
     "execution_count": 126,
     "metadata": {},
     "output_type": "execute_result"
    }
   ],
   "source": [
    "trim_ipo_stock_df.shape"
   ]
  },
  {
   "cell_type": "code",
   "execution_count": null,
   "id": "add01ad8-9fe9-456f-a745-1b498b4d3c94",
   "metadata": {},
   "outputs": [],
   "source": []
  }
 ],
 "metadata": {
  "kernelspec": {
   "display_name": "Python 3.11 (AutoGluon)",
   "language": "python",
   "name": "py311"
  },
  "language_info": {
   "codemirror_mode": {
    "name": "ipython",
    "version": 3
   },
   "file_extension": ".py",
   "mimetype": "text/x-python",
   "name": "python",
   "nbconvert_exporter": "python",
   "pygments_lexer": "ipython3",
   "version": "3.11.0"
  }
 },
 "nbformat": 4,
 "nbformat_minor": 5
}
