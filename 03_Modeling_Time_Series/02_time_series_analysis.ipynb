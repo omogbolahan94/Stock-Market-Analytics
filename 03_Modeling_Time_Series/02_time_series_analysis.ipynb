{
 "cells": [
  {
   "cell_type": "code",
   "execution_count": 1,
   "id": "b9598922-19b2-4ed6-ab1d-119f91a7d4fd",
   "metadata": {},
   "outputs": [],
   "source": [
    "# IMPORTS\n",
    "import numpy as np\n",
    "import pandas as pd\n",
    "\n",
    "#Fin Data Sources\n",
    "import yfinance as yf\n",
    "import pandas_datareader as pdr\n",
    "\n",
    "#Data viz\n",
    "import plotly.graph_objs as go\n",
    "import plotly.graph_objects as go\n",
    "import plotly.express as px\n",
    "\n",
    "import time\n",
    "from datetime import date\n",
    "\n",
    "# for graphs\n",
    "import matplotlib.pyplot as plt\n",
    "     "
   ]
  },
  {
   "cell_type": "markdown",
   "id": "7a4833d4-0ed2-4e7a-bee4-ec4a68cd6afe",
   "metadata": {},
   "source": [
    "Download Resources from Google Drive Using the `gdown` Library"
   ]
  },
  {
   "cell_type": "code",
   "execution_count": 2,
   "id": "3a224015-d81b-4089-95f3-d97bdc340ec6",
   "metadata": {},
   "outputs": [
    {
     "name": "stdout",
     "output_type": "stream",
     "text": [
      "Found existing installation: gdown 5.2.0\n",
      "Uninstalling gdown-5.2.0:\n",
      "  Successfully uninstalled gdown-5.2.0\n",
      "Collecting gdown\n",
      "  Using cached gdown-5.2.0-py3-none-any.whl (18 kB)\n",
      "Requirement already satisfied: beautifulsoup4 in c:\\users\\dell\\appdata\\local\\programs\\python\\python311\\lib\\site-packages (from gdown) (4.12.3)\n",
      "Requirement already satisfied: filelock in c:\\users\\dell\\appdata\\local\\programs\\python\\python311\\lib\\site-packages (from gdown) (3.16.1)\n",
      "Requirement already satisfied: requests[socks] in c:\\users\\dell\\appdata\\local\\programs\\python\\python311\\lib\\site-packages (from gdown) (2.32.3)\n",
      "Requirement already satisfied: tqdm in c:\\users\\dell\\appdata\\local\\programs\\python\\python311\\lib\\site-packages (from gdown) (4.67.1)\n",
      "Requirement already satisfied: soupsieve>1.2 in c:\\users\\dell\\appdata\\local\\programs\\python\\python311\\lib\\site-packages (from beautifulsoup4->gdown) (2.6)\n",
      "Requirement already satisfied: charset-normalizer<4,>=2 in c:\\users\\dell\\appdata\\local\\programs\\python\\python311\\lib\\site-packages (from requests[socks]->gdown) (3.4.0)\n",
      "Requirement already satisfied: idna<4,>=2.5 in c:\\users\\dell\\appdata\\local\\programs\\python\\python311\\lib\\site-packages (from requests[socks]->gdown) (2.6)\n",
      "Requirement already satisfied: urllib3<3,>=1.21.1 in c:\\users\\dell\\appdata\\local\\programs\\python\\python311\\lib\\site-packages (from requests[socks]->gdown) (2.4.0)\n",
      "Requirement already satisfied: certifi>=2017.4.17 in c:\\users\\dell\\appdata\\local\\programs\\python\\python311\\lib\\site-packages (from requests[socks]->gdown) (2024.8.30)\n",
      "Requirement already satisfied: PySocks!=1.5.7,>=1.5.6 in c:\\users\\dell\\appdata\\local\\programs\\python\\python311\\lib\\site-packages (from requests[socks]->gdown) (1.7.1)\n",
      "Requirement already satisfied: colorama in c:\\users\\dell\\appdata\\local\\programs\\python\\python311\\lib\\site-packages (from tqdm->gdown) (0.4.6)\n",
      "Installing collected packages: gdown\n",
      "Successfully installed gdown-5.2.0\n"
     ]
    },
    {
     "name": "stderr",
     "output_type": "stream",
     "text": [
      "\n",
      "[notice] A new release of pip available: 22.3 -> 25.1.1\n",
      "[notice] To update, run: python.exe -m pip install --upgrade pip\n"
     ]
    }
   ],
   "source": [
    "!pip uninstall gdown -y && pip install gdown"
   ]
  },
  {
   "cell_type": "code",
   "execution_count": 5,
   "id": "c4031d46-1c46-4217-9dd2-d6b3998fb058",
   "metadata": {},
   "outputs": [],
   "source": [
    "# download the resources\n",
    "# !gdown https://drive.google.com/file/d/1kNWWPi49td0EZhmi6LzNCa2ssC5IUxHP/view?usp=sharing --fuzzy -O /content/"
   ]
  },
  {
   "cell_type": "code",
   "execution_count": null,
   "id": "a2c07124-6787-4fc6-9708-7d7ee8b929e1",
   "metadata": {},
   "outputs": [],
   "source": []
  }
 ],
 "metadata": {
  "kernelspec": {
   "display_name": "Python 3.11 (AutoGluon)",
   "language": "python",
   "name": "py311"
  },
  "language_info": {
   "codemirror_mode": {
    "name": "ipython",
    "version": 3
   },
   "file_extension": ".py",
   "mimetype": "text/x-python",
   "name": "python",
   "nbconvert_exporter": "python",
   "pygments_lexer": "ipython3",
   "version": "3.11.0"
  }
 },
 "nbformat": 4,
 "nbformat_minor": 5
}
